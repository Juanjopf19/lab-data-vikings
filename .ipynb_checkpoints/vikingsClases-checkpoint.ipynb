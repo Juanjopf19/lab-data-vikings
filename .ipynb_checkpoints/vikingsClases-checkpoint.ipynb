{
 "cells": [
  {
   "cell_type": "code",
   "execution_count": null,
   "metadata": {},
   "outputs": [],
   "source": [
    "# %load vikingsClases.py\n",
    "\n",
    "# Soldier\n",
    "\n",
    "\n",
    "class Soldier:\n",
    "    pass\n",
    "\n",
    "# Viking\n",
    "\n",
    "\n",
    "class Viking:\n",
    "    pass\n",
    "\n",
    "# Saxon\n",
    "\n",
    "\n",
    "class Saxon:\n",
    "    pass\n",
    "\n",
    "# War\n",
    "\n",
    "\n",
    "class War:\n",
    "    pass\n"
   ]
  },
  {
   "cell_type": "code",
   "execution_count": null,
   "metadata": {},
   "outputs": [],
   "source": []
  }
 ],
 "metadata": {
  "kernelspec": {
   "display_name": "Python 3",
   "language": "python",
   "name": "python3"
  },
  "language_info": {
   "codemirror_mode": {
    "name": "ipython",
    "version": 3
   },
   "file_extension": ".py",
   "mimetype": "text/x-python",
   "name": "python",
   "nbconvert_exporter": "python",
   "pygments_lexer": "ipython3",
   "version": "3.7.3"
  }
 },
 "nbformat": 4,
 "nbformat_minor": 2
}
