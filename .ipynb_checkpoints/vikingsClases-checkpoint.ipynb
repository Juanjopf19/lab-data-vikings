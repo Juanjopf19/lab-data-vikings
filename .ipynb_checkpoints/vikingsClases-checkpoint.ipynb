{
 "cells": [
  {
   "cell_type": "code",
   "execution_count": 14,
   "metadata": {},
   "outputs": [],
   "source": [
    "# %load vikingsClases.py\n",
    "\n",
    "# Soldier\n",
    "\n",
    "class Soldier():\n",
    "    def __init__ (self, health, strength):\n",
    "        self.health = health\n",
    "        self.strength = strength \n",
    "        \n",
    "    def attack(self):\n",
    "            return self.strength\n",
    "    \n",
    "    def receiveDamage(self, damage):\n",
    "        self.health -= damage\n",
    "        "
   ]
  },
  {
   "cell_type": "code",
   "execution_count": 78,
   "metadata": {},
   "outputs": [],
   "source": [
    "# Viking\n",
    "\n",
    "class Viking(Soldier):\n",
    "    def __init__ (self, name, health, strength):   \n",
    "        super().__init__(health, strength)\n",
    "        self.name = name \n",
    "\n",
    "    def receiveDamage(self, damage):\n",
    "        self.health -= damage\n",
    "        if self.health > 0:\n",
    "            return \"{} has received {} points of damage\".format(self.name, damage)\n",
    "        else:\n",
    "            return \"{} has died in act of combat\".format(self.name)\n",
    "    \n",
    "    def battleCry(self):\n",
    "        return \"Odin Owns You All!\"\n",
    "    "
   ]
  },
  {
   "cell_type": "code",
   "execution_count": 79,
   "metadata": {},
   "outputs": [],
   "source": [
    "# Saxon\n",
    "\n",
    "class Saxon(Soldier):\n",
    "    def ___init___ (self, health, strength):\n",
    "        super().___init---(health, strength)\n",
    "    \n",
    "    def receiveDamage(self, damage):\n",
    "        self.health -= damage\n",
    "        if self.health > 0:\n",
    "            return \"A Saxon has received {} points of damage\".format(damage)  \n",
    "        else:\n",
    "            return \"A Saxon has died in combat\"\n",
    "    "
   ]
  },
  {
   "cell_type": "code",
   "execution_count": 50,
   "metadata": {},
   "outputs": [],
   "source": [
    "# War\n",
    "\n",
    "class War():\n",
    "    def ___init___(self):\n",
    "        vikingArmy = []\n",
    "        saxonArmy = []\n",
    "        \n",
    "    def addViking(self, Viking):\n",
    "        self.vikingArmy.append(Viking)\n",
    "    \n",
    "    def addSaxon(self, Saxon):\n",
    "        self.saxonArmy.append(Saxon)\n",
    "        \n",
    "    def vikingAttack(self):\n",
    "        random.choice(self.saxonArmy).receiveDamage(Viking.self.strength)\n",
    "        for Saxon in self.saxonArmy:\n",
    "            if Saxon.self.health <= 0:\n",
    "                self.saxonArmy.remove(Saxon)\n",
    "        return print(Saxon.receiveDamage(Viking.self.strength))\n",
    "                \n",
    "    def saxonAttack(self):\n",
    "        random.choice(self.vikingArmy).receiveDamage(Saxon.self.strength)\n",
    "        for Viking in self.vikingArmy:\n",
    "            if Viking.self.health <= 0:\n",
    "                self.vikingArmy.remove(Viking)\n",
    "        return print(Viking.receiveDamage(Saxon.self.strength))\n",
    "    \n",
    "    def showStatus(self):\n",
    "        if len(self.saxonArmy) == 0:\n",
    "            return \"Vikings have won the war of the century!\"\n",
    "        elif len(self.vikingArmy) == 0:\n",
    "            return \"Saxons have fought for their lives and survive another day...\"\n",
    "        else: \n",
    "            return \"Vikings and Saxons are still in the thick of battle.\"\n",
    "            \n",
    "    \n"
   ]
  },
  {
   "cell_type": "code",
   "execution_count": null,
   "metadata": {},
   "outputs": [],
   "source": []
  },
  {
   "cell_type": "code",
   "execution_count": null,
   "metadata": {},
   "outputs": [],
   "source": []
  }
 ],
 "metadata": {
  "kernelspec": {
   "display_name": "Python 3",
   "language": "python",
   "name": "python3"
  },
  "language_info": {
   "codemirror_mode": {
    "name": "ipython",
    "version": 3
   },
   "file_extension": ".py",
   "mimetype": "text/x-python",
   "name": "python",
   "nbconvert_exporter": "python",
   "pygments_lexer": "ipython3",
   "version": "3.7.3"
  }
 },
 "nbformat": 4,
 "nbformat_minor": 2
}
